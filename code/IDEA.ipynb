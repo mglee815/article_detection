{
 "cells": [
  {
   "cell_type": "markdown",
   "metadata": {},
   "source": [
    "광고성 기사는 돈을 받고 (혹은 돈을 받지 않더라도) 기사의 형태로 광고를 작성하여 배포하는 것을 의미함"
   ]
  },
  {
   "cell_type": "markdown",
   "metadata": {},
   "source": [
    "기사가 아니라는 것을 분명하게 명시하는 보도자료와 명백한 차이가 있음"
   ]
  },
  {
   "cell_type": "markdown",
   "metadata": {},
   "source": [
    "다만 보도자료와 기사의 형식은 유사할 수 있음"
   ]
  },
  {
   "cell_type": "markdown",
   "metadata": {},
   "source": [
    "다음 뉴스는 \\\n",
    "https://search.daum.net/search?nil_suggest=btn&w=news&DA=PGD&cluster=y&q=키워드&p=1&article_type=report \\\n",
    "와 같은 형태로 뉴스 페이지를 제공하는데, \\\n",
    "이때 articel_type=report일 경우 보도자료를 검색 결과로 반환함\n"
   ]
  },
  {
   "cell_type": "markdown",
   "metadata": {},
   "source": [
    "광고성 기사로 제재를 받은 데이터 수집"
   ]
  },
  {
   "cell_type": "code",
   "execution_count": 2,
   "metadata": {},
   "outputs": [],
   "source": [
    "import pandas as pd"
   ]
  },
  {
   "cell_type": "code",
   "execution_count": 4,
   "metadata": {},
   "outputs": [],
   "source": [
    "df = pd.read_csv(\"../data/2019년_기사형광고_심의결정자료_상품별_정리.csv\")"
   ]
  },
  {
   "cell_type": "code",
   "execution_count": 8,
   "metadata": {},
   "outputs": [],
   "source": [
    "url_lst = []\n",
    "for url in df['기사링크']:\n",
    "    if \"news.naver.com\" in str(url):\n",
    "        url_lst.append(str(url))"
   ]
  },
  {
   "cell_type": "code",
   "execution_count": 10,
   "metadata": {},
   "outputs": [
    {
     "data": {
      "text/plain": [
       "1097"
      ]
     },
     "execution_count": 10,
     "metadata": {},
     "output_type": "execute_result"
    }
   ],
   "source": [
    "len(url_lst)"
   ]
  },
  {
   "cell_type": "markdown",
   "metadata": {},
   "source": [
    "보니깐 식품, 건강, 의료, 건설 분야에서 많았음 \\\n",
    "비슷한 분야에서 광고가 아닌 데이터를 수집하여 학습 및 테스트 셋을 만들기"
   ]
  },
  {
   "cell_type": "markdown",
   "metadata": {},
   "source": [
    "몇가지 포인트"
   ]
  },
  {
   "cell_type": "markdown",
   "metadata": {},
   "source": [
    "매체는 다르지만 비슷한 내용이 계속 반복 \\\n",
    "바이라인이 기자가 아님 \\\n",
    "혹은 메일 주소가 없음 \\\n",
    "같은 기자가 쓴 것인데 전문 분야가 없음 \\\n",
    "특정 상품명을 직접적으로 언급 \\\n",
    "오인유도표현을 사용하지 않으면 문제 없는 듯? \\\n",
    ".\n"
   ]
  }
 ],
 "metadata": {
  "kernelspec": {
   "display_name": "Python 3.8.12 ('save')",
   "language": "python",
   "name": "python3"
  },
  "language_info": {
   "codemirror_mode": {
    "name": "ipython",
    "version": 3
   },
   "file_extension": ".py",
   "mimetype": "text/x-python",
   "name": "python",
   "nbconvert_exporter": "python",
   "pygments_lexer": "ipython3",
   "version": "3.8.12"
  },
  "orig_nbformat": 4,
  "vscode": {
   "interpreter": {
    "hash": "6632c70ce360d611e847e5318887868e2366d56c00e5f501b5a0b067a934dfe7"
   }
  }
 },
 "nbformat": 4,
 "nbformat_minor": 2
}
