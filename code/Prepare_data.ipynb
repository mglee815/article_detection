{
 "cells": [
  {
   "cell_type": "code",
   "execution_count": 60,
   "metadata": {},
   "outputs": [],
   "source": [
    "import pandas as pd\n",
    "import re"
   ]
  },
  {
   "cell_type": "code",
   "execution_count": 61,
   "metadata": {},
   "outputs": [],
   "source": [
    "data = pd.read_csv(\"../data/ad_article.csv\")"
   ]
  },
  {
   "cell_type": "code",
   "execution_count": 62,
   "metadata": {},
   "outputs": [
    {
     "name": "stdout",
     "output_type": "stream",
     "text": [
      "<class 'pandas.core.frame.DataFrame'>\n",
      "RangeIndex: 1049 entries, 0 to 1048\n",
      "Data columns (total 5 columns):\n",
      " #   Column      Non-Null Count  Dtype \n",
      "---  ------      --------------  ----- \n",
      " 0   Unnamed: 0  1049 non-null   int64 \n",
      " 1   0           1049 non-null   object\n",
      " 2   1           1049 non-null   object\n",
      " 3   2           1025 non-null   object\n",
      " 4   3           773 non-null    object\n",
      "dtypes: int64(1), object(4)\n",
      "memory usage: 41.1+ KB\n"
     ]
    }
   ],
   "source": [
    "data.info()"
   ]
  },
  {
   "cell_type": "code",
   "execution_count": 63,
   "metadata": {},
   "outputs": [
    {
     "data": {
      "text/html": [
       "<div>\n",
       "<style scoped>\n",
       "    .dataframe tbody tr th:only-of-type {\n",
       "        vertical-align: middle;\n",
       "    }\n",
       "\n",
       "    .dataframe tbody tr th {\n",
       "        vertical-align: top;\n",
       "    }\n",
       "\n",
       "    .dataframe thead th {\n",
       "        text-align: right;\n",
       "    }\n",
       "</style>\n",
       "<table border=\"1\" class=\"dataframe\">\n",
       "  <thead>\n",
       "    <tr style=\"text-align: right;\">\n",
       "      <th></th>\n",
       "      <th>Unnamed: 0</th>\n",
       "      <th>0</th>\n",
       "      <th>1</th>\n",
       "      <th>2</th>\n",
       "      <th>3</th>\n",
       "    </tr>\n",
       "  </thead>\n",
       "  <tbody>\n",
       "    <tr>\n",
       "      <th>0</th>\n",
       "      <td>0</td>\n",
       "      <td>[탐방-청담씨티칼리지 요양병원] 여성 암환자 명품 쉼터… 명실상부 회복공간 자리매김</td>\n",
       "      <td>청담씨티칼리지 요양병원 내·외부 모습.\\n\\n\\n요즘 요양병원에 대한 사회적 인식이...</td>\n",
       "      <td>오준엽 쿠키뉴스 기자</td>\n",
       "      <td>NaN</td>\n",
       "    </tr>\n",
       "    <tr>\n",
       "      <th>1</th>\n",
       "      <td>1</td>\n",
       "      <td>[수술 잘하는 병원-이대목동병원 심장이식팀] 환자 맞춤형 최적 치료 제공… 수술후 ...</td>\n",
       "      <td>국내 심장 분야 명의로 꼽히는 이대목동병원 심장이식팀 서동만(왼쪽) 흉부외과 교수와...</td>\n",
       "      <td>전미옥 쿠키뉴스 기자</td>\n",
       "      <td>NaN</td>\n",
       "    </tr>\n",
       "    <tr>\n",
       "      <th>2</th>\n",
       "      <td>2</td>\n",
       "      <td>알록달록 이국 풍경… ‘부네치아’를 아시나요</td>\n",
       "      <td>일몰·일출… 색다른 부산 여행\\n부산 사하구 장림포구가 알록달록한 건물과 일몰로 황...</td>\n",
       "      <td>남호철 여행전문기자</td>\n",
       "      <td>NaN</td>\n",
       "    </tr>\n",
       "    <tr>\n",
       "      <th>3</th>\n",
       "      <td>3</td>\n",
       "      <td>용인 ‘수지 스카이뷰 푸르지오’ 4일 본보기집 개관</td>\n",
       "      <td>대우건설은 경기 용인시 수지구 신봉동 ‘수지 스카이뷰 푸르지오’를 분양한다. 지하 ...</td>\n",
       "      <td>주애진 기자(jaj@donga.com)</td>\n",
       "      <td>동아일보</td>\n",
       "    </tr>\n",
       "    <tr>\n",
       "      <th>4</th>\n",
       "      <td>4</td>\n",
       "      <td>교통-쇼핑-의료 ‘3박자’ 다 갖췄네</td>\n",
       "      <td>[아파트 미리보기]e편한세상 청계 센트럴포레\\n대림산업은 서울 동대문구 용두5구역을...</td>\n",
       "      <td>조윤경 기자(yunique@donga.com)</td>\n",
       "      <td>동아일보</td>\n",
       "    </tr>\n",
       "    <tr>\n",
       "      <th>...</th>\n",
       "      <td>...</td>\n",
       "      <td>...</td>\n",
       "      <td>...</td>\n",
       "      <td>...</td>\n",
       "      <td>...</td>\n",
       "    </tr>\n",
       "    <tr>\n",
       "      <th>1044</th>\n",
       "      <td>1044</td>\n",
       "      <td>블록형 단독주택 ‘삼송자이더빌리지’ 주목</td>\n",
       "      <td>전용면적 두배 서비스면적 제공\\n전용면적 84㎡→실사용 218㎡\\n분양가 7억100...</td>\n",
       "      <td>NaN</td>\n",
       "      <td>NaN</td>\n",
       "    </tr>\n",
       "    <tr>\n",
       "      <th>1045</th>\n",
       "      <td>1045</td>\n",
       "      <td>대림산업, 대구 서구 ‘e편한세상 두류역’ 이달 분양</td>\n",
       "      <td>59~84㎡ 676가구 일반분양\\n교통 편리 개발호재도 풍성1년\\n\\n\\n대림산업은...</td>\n",
       "      <td>NaN</td>\n",
       "      <td>NaN</td>\n",
       "    </tr>\n",
       "    <tr>\n",
       "      <th>1046</th>\n",
       "      <td>1046</td>\n",
       "      <td>삼성물산, 부산 ‘래미안 어반파크’ 견본주택 21일 개관</td>\n",
       "      <td>삼성물산은 부산시 부산진구 연지2구역을 재개발하는 ‘래미안 어반파크’&lt;사진&gt; 견본주...</td>\n",
       "      <td>NaN</td>\n",
       "      <td>NaN</td>\n",
       "    </tr>\n",
       "    <tr>\n",
       "      <th>1047</th>\n",
       "      <td>1047</td>\n",
       "      <td>서울의 한복판 세운지구…13년만에 새집 선보인다</td>\n",
       "      <td>3구역 ‘힐스테이트 세운’ 스타트\\n전용 39~59㎡ 중소형 899가구\\n쿼드러플 ...</td>\n",
       "      <td>NaN</td>\n",
       "      <td>NaN</td>\n",
       "    </tr>\n",
       "    <tr>\n",
       "      <th>1048</th>\n",
       "      <td>1048</td>\n",
       "      <td>청량리 주상복합 내달 ‘마지막 퍼즐’ 맞춘다</td>\n",
       "      <td>‘청량리역 롯데캐슬 SKY-L65’\\n역세권 주상복합 3총사 완성서울\\n\\n\\n서울...</td>\n",
       "      <td>NaN</td>\n",
       "      <td>NaN</td>\n",
       "    </tr>\n",
       "  </tbody>\n",
       "</table>\n",
       "<p>1049 rows × 5 columns</p>\n",
       "</div>"
      ],
      "text/plain": [
       "      Unnamed: 0                                                  0  \\\n",
       "0              0     [탐방-청담씨티칼리지 요양병원] 여성 암환자 명품 쉼터… 명실상부 회복공간 자리매김   \n",
       "1              1  [수술 잘하는 병원-이대목동병원 심장이식팀] 환자 맞춤형 최적 치료 제공… 수술후 ...   \n",
       "2              2                           알록달록 이국 풍경… ‘부네치아’를 아시나요   \n",
       "3              3                       용인 ‘수지 스카이뷰 푸르지오’ 4일 본보기집 개관   \n",
       "4              4                               교통-쇼핑-의료 ‘3박자’ 다 갖췄네   \n",
       "...          ...                                                ...   \n",
       "1044        1044                             블록형 단독주택 ‘삼송자이더빌리지’ 주목   \n",
       "1045        1045                      대림산업, 대구 서구 ‘e편한세상 두류역’ 이달 분양   \n",
       "1046        1046                    삼성물산, 부산 ‘래미안 어반파크’ 견본주택 21일 개관   \n",
       "1047        1047                         서울의 한복판 세운지구…13년만에 새집 선보인다   \n",
       "1048        1048                           청량리 주상복합 내달 ‘마지막 퍼즐’ 맞춘다   \n",
       "\n",
       "                                                      1  \\\n",
       "0     청담씨티칼리지 요양병원 내·외부 모습.\\n\\n\\n요즘 요양병원에 대한 사회적 인식이...   \n",
       "1     국내 심장 분야 명의로 꼽히는 이대목동병원 심장이식팀 서동만(왼쪽) 흉부외과 교수와...   \n",
       "2     일몰·일출… 색다른 부산 여행\\n부산 사하구 장림포구가 알록달록한 건물과 일몰로 황...   \n",
       "3     대우건설은 경기 용인시 수지구 신봉동 ‘수지 스카이뷰 푸르지오’를 분양한다. 지하 ...   \n",
       "4     [아파트 미리보기]e편한세상 청계 센트럴포레\\n대림산업은 서울 동대문구 용두5구역을...   \n",
       "...                                                 ...   \n",
       "1044  전용면적 두배 서비스면적 제공\\n전용면적 84㎡→실사용 218㎡\\n분양가 7억100...   \n",
       "1045  59~84㎡ 676가구 일반분양\\n교통 편리 개발호재도 풍성1년\\n\\n\\n대림산업은...   \n",
       "1046  삼성물산은 부산시 부산진구 연지2구역을 재개발하는 ‘래미안 어반파크’<사진> 견본주...   \n",
       "1047  3구역 ‘힐스테이트 세운’ 스타트\\n전용 39~59㎡ 중소형 899가구\\n쿼드러플 ...   \n",
       "1048  ‘청량리역 롯데캐슬 SKY-L65’\\n역세권 주상복합 3총사 완성서울\\n\\n\\n서울...   \n",
       "\n",
       "                              2     3  \n",
       "0                   오준엽 쿠키뉴스 기자   NaN  \n",
       "1                   전미옥 쿠키뉴스 기자   NaN  \n",
       "2                    남호철 여행전문기자   NaN  \n",
       "3         주애진 기자(jaj@donga.com)  동아일보  \n",
       "4     조윤경 기자(yunique@donga.com)  동아일보  \n",
       "...                         ...   ...  \n",
       "1044                        NaN   NaN  \n",
       "1045                        NaN   NaN  \n",
       "1046                        NaN   NaN  \n",
       "1047                        NaN   NaN  \n",
       "1048                        NaN   NaN  \n",
       "\n",
       "[1049 rows x 5 columns]"
      ]
     },
     "execution_count": 63,
     "metadata": {},
     "output_type": "execute_result"
    }
   ],
   "source": [
    "data"
   ]
  },
  {
   "cell_type": "code",
   "execution_count": 64,
   "metadata": {},
   "outputs": [],
   "source": [
    "txt_lst = []\n",
    "\n",
    "for title, body, writer, media in zip(data['0'], data['1'], data['2'], data['3']):\n",
    "    txt = str(title) + str(body) + str(writer) + str(media)\n",
    "    txt = txt.replace(\"\\n\", \"\")\n",
    "    txt = txt.replace(\"\\r\", \"\")\n",
    "    txt = txt.strip()\n",
    "    txt_lst.append(txt)"
   ]
  },
  {
   "cell_type": "code",
   "execution_count": 65,
   "metadata": {},
   "outputs": [
    {
     "data": {
      "text/plain": [
       "'청량리 주상복합 내달 ‘마지막 퍼즐’ 맞춘다‘청량리역 롯데캐슬 SKY-L65’역세권 주상복합 3총사 완성서울서울 동대문구 청량리역 일대에 들어서는 주상복합의 ‘마지막 퍼즐’로 불리는 ‘청량리역 롯데캐슬 SKY-L65’이 내달 분양시장에 노크한다. 앞서 인근에 분양한 2개 단지가 흥행에 성공한 탓에 일대 마지막 분양주자에 대한 수요자들의 관심도 높아지고 있다.21일 부동산 업계에 따르면 서울 동대문구 전농동 620-47번지(청량리4구역) 재개발을 통해 들어서는 ‘청량리역 롯데캐슬 SKY-L65’는 내달 5일 견본주택을 열고 9일부터 청약일정에 들어간다. 롯데건설 관계자는 “현재 동대문구청의 분양승인을 최종적으로 기다리는 단계”라고 설명했다.지하 7층~지상 최고 65층, 4개동, 1425가구로 지어지는 이 단지는 지난 4월 분양한 ‘청량리역 해링턴플레이스’(40층), ‘청량리역 한양수자인 192’(59층)와 함께 일대 스카이라인을 바꿀 삼총사로 꼽힌다. 특히 청량리역은 지하철 1호선, 분당선, 경춘선, 경의중앙선, KTX 강릉선, ITX청춘 등이 지나는 데 더해 강북횡단선, 면목선, GTX-C노선이 예정됐다는 교통 호재도 있다. 이에 힘입어 앞서 앞서 분양한 2개 단지가 ‘완판’에 성공하면서 이 단지의 등판을 기다리는 수요자도 적지 않았다.청약일정이 구체화하기까진 우여곡절이 많았다. 분양 논의는 지난해부터 오갔지만 조합과의 협의, 분양가 산정 등을 이유로 인허가가 늦어지면서 사업이 지지부진했다. 지난 2월에도 3월 말 일반분양이 거론됐으나 분양가 책정에 시일이 소요되면서 청약일정이 5월로 밀렸다. 이후 이달 중순 입주자 모집 공고 등을 낼 예정이었지만, 기관추천 민원 문제로 내달 첫주로 재공지했다.기다림 끝에 시장에 모습을 드러낸 단지인 만큼 청약결과에도 관심이 모아진다. 분양가는 3.3㎡당 2600만원으로 ‘청량리역 해링턴플레이스’(3.3㎡ 2463만원)와 ‘청량리역 한양수자인 192’(3.3㎡당 2570만원)보다 높은 수준이다. 이들 두 단지의 평균 청약경쟁률은 각각 31.08대 1, 4.64대 1 이었다. 양영경 기자/y2k▶헤럴드경제 구독하고 휴가지원금 100만원 지원 받기▶미리준비하는 여름 최대 70%할인, 헤럴드 리얼라이프 ▶헤럴드경제 사이트 바로가기- Copyrights ⓒ 헤럴드경제 & heraldbiz.com, 무단 전재 및 재배포 금지 -nannan'"
      ]
     },
     "execution_count": 65,
     "metadata": {},
     "output_type": "execute_result"
    }
   ],
   "source": [
    "txt_lst[-1]"
   ]
  },
  {
   "cell_type": "code",
   "execution_count": 66,
   "metadata": {},
   "outputs": [],
   "source": [
    "ad_df = pd.DataFrame(txt_lst)\n",
    "ad_df.columns = ['text']\n",
    "ad_df['label'] = 1.0"
   ]
  },
  {
   "cell_type": "markdown",
   "metadata": {},
   "source": [
    "additional article"
   ]
  },
  {
   "cell_type": "code",
   "execution_count": 67,
   "metadata": {},
   "outputs": [],
   "source": [
    "a1 = pd.read_csv(\"../data/sub_food.csv\")\n",
    "a2 = pd.read_csv(\"../data/food.csv\")\n",
    "a3 = pd.read_csv(\"../data/apt.csv\")\n",
    "a4 = pd.read_csv(\"../data/medical.csv\")\n",
    "a5 = pd.read_csv(\"../data/President.csv\")\n",
    "a6 = pd.read_csv(\"../data/minjoo.csv\")\n",
    "a7 = pd.read_csv(\"../data/tax.csv\")"
   ]
  },
  {
   "cell_type": "code",
   "execution_count": 68,
   "metadata": {},
   "outputs": [],
   "source": [
    "a = pd.concat([a1, a2, a3, a4, a5, a6, a7])"
   ]
  },
  {
   "cell_type": "code",
   "execution_count": 69,
   "metadata": {},
   "outputs": [],
   "source": [
    "txt_lst = []\n",
    "\n",
    "for title, body, writer, media in zip(a['0'], a['1'], a['2'], a['3']):\n",
    "    txt = str(title) + str(body) + str(writer) + str(media)\n",
    "    txt = txt.replace(\"\\n\", \"\")\n",
    "    txt = txt.replace(\"\\r\", \"\")\n",
    "    txt = txt.strip()\n",
    "    txt_lst.append(txt)"
   ]
  },
  {
   "cell_type": "code",
   "execution_count": 70,
   "metadata": {},
   "outputs": [],
   "source": [
    "temp = pd.DataFrame(txt_lst, a['label']).reset_index()\n",
    "temp.columns = ['label', 'text']"
   ]
  },
  {
   "cell_type": "code",
   "execution_count": 71,
   "metadata": {},
   "outputs": [],
   "source": [
    "temp = temp.dropna().reset_index(drop = True)"
   ]
  },
  {
   "cell_type": "code",
   "execution_count": 72,
   "metadata": {},
   "outputs": [],
   "source": [
    "merge_df = pd.concat([ad_df, temp])"
   ]
  },
  {
   "cell_type": "code",
   "execution_count": 73,
   "metadata": {},
   "outputs": [
    {
     "data": {
      "text/plain": [
       "label\n",
       "1.0    1268\n",
       "0.0     830\n",
       "dtype: int64"
      ]
     },
     "execution_count": 73,
     "metadata": {},
     "output_type": "execute_result"
    }
   ],
   "source": [
    "merge_df.value_counts('label')"
   ]
  },
  {
   "cell_type": "code",
   "execution_count": null,
   "metadata": {},
   "outputs": [],
   "source": [
    "merge_df.to_csv(\"../data/dataset.csv\")"
   ]
  },
  {
   "cell_type": "markdown",
   "metadata": {},
   "source": [
    "Data Split"
   ]
  },
  {
   "cell_type": "code",
   "execution_count": 44,
   "metadata": {},
   "outputs": [],
   "source": [
    "test = merge_df.sample(frac = 0.1, random_state=42)\n",
    "train = merge_df.drop(test.index)"
   ]
  },
  {
   "cell_type": "code",
   "execution_count": 47,
   "metadata": {},
   "outputs": [
    {
     "name": "stdout",
     "output_type": "stream",
     "text": [
      "210 1708\n",
      "label\n",
      "1.0    123\n",
      "0.0     87\n",
      "dtype: int64 label\n",
      "1.0    1037\n",
      "0.0     671\n",
      "dtype: int64\n"
     ]
    }
   ],
   "source": [
    "print(len(test), len(train))\n",
    "print(test.value_counts('label'), train.value_counts('label'))"
   ]
  },
  {
   "cell_type": "code",
   "execution_count": 59,
   "metadata": {},
   "outputs": [],
   "source": [
    "train.to_csv(\"../data/train.csv\")\n",
    "test.to_csv(\"../data/test.csv\")"
   ]
  }
 ],
 "metadata": {
  "kernelspec": {
   "display_name": "Python 3.8.12 ('save')",
   "language": "python",
   "name": "python3"
  },
  "language_info": {
   "codemirror_mode": {
    "name": "ipython",
    "version": 3
   },
   "file_extension": ".py",
   "mimetype": "text/x-python",
   "name": "python",
   "nbconvert_exporter": "python",
   "pygments_lexer": "ipython3",
   "version": "3.8.12"
  },
  "orig_nbformat": 4,
  "vscode": {
   "interpreter": {
    "hash": "6632c70ce360d611e847e5318887868e2366d56c00e5f501b5a0b067a934dfe7"
   }
  }
 },
 "nbformat": 4,
 "nbformat_minor": 2
}
