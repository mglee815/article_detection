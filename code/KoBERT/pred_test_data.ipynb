{
 "cells": [
  {
   "cell_type": "code",
   "execution_count": 1,
   "metadata": {},
   "outputs": [
    {
     "name": "stderr",
     "output_type": "stream",
     "text": [
      "2022-11-30 10:55:59.158672: I tensorflow/stream_executor/platform/default/dso_loader.cc:49] Successfully opened dynamic library libcudart.so.11.0\n"
     ]
    },
    {
     "name": "stdout",
     "output_type": "stream",
     "text": [
      "Using cuda:1\n"
     ]
    }
   ],
   "source": [
    "import pandas as pd\n",
    "import mxnet\n",
    "import gluonnlp as nlp\n",
    "import numpy as np\n",
    "from tqdm.notebook import tqdm\n",
    "\n",
    "import torch\n",
    "from torch import nn\n",
    "import torch.nn.functional as F\n",
    "import torch.optim as optim\n",
    "from torch.utils.data import Dataset, DataLoader\n",
    "\n",
    "from kobert.utils import get_tokenizer\n",
    "from kobert.pytorch_kobert import get_pytorch_kobert_model\n",
    "\n",
    "from transformers import AdamW\n",
    "from transformers.optimization import get_cosine_schedule_with_warmup\n",
    "\n",
    "from sklearn.model_selection import train_test_split\n",
    "\n",
    "\n",
    "device = torch.device(\"cuda:1\")\n",
    "print(f\"Using {device}\")"
   ]
  },
  {
   "cell_type": "code",
   "execution_count": 2,
   "metadata": {},
   "outputs": [],
   "source": [
    "data = pd.read_csv(\"../data/test.csv\")"
   ]
  },
  {
   "cell_type": "code",
   "execution_count": 7,
   "metadata": {},
   "outputs": [],
   "source": [
    "pred_data = data[['text', 'label']]"
   ]
  },
  {
   "cell_type": "code",
   "execution_count": 8,
   "metadata": {},
   "outputs": [
    {
     "name": "stdout",
     "output_type": "stream",
     "text": [
      "get bertmodel and vocab\n",
      "using cached model. /home/mglee/VSCODE/git_folder/article_detection/code/.cache/kobert_v1.zip\n",
      "using cached model. /home/mglee/VSCODE/git_folder/article_detection/code/.cache/kobert_news_wiki_ko_cased-1087f8699e.spiece\n"
     ]
    }
   ],
   "source": [
    "class BERTDataset(Dataset):\n",
    "    def __init__(self, dataset,bert_tokenizer, max_len,\n",
    "                 pad, pair):\n",
    "        transform = nlp.data.BERTSentenceTransform(\n",
    "            bert_tokenizer, max_seq_length=max_len, pad=pad, pair=pair)\n",
    "\n",
    "        self.sentences = [transform([\" \".join(dataset.iloc[i]['text'])]) for i in range(len(dataset))]\n",
    "        self.labels = [np.int32(dataset.iloc[i]['label']) for i in range(len(dataset))]\n",
    "\n",
    "    def __getitem__(self, i):\n",
    "        return (self.sentences[i] + (self.labels[i], ))\n",
    "\n",
    "    def __len__(self):\n",
    "        return (len(self.labels))\n",
    "\n",
    "print('get bertmodel and vocab')\n",
    "bertmodel, vocab = get_pytorch_kobert_model()\n"
   ]
  },
  {
   "cell_type": "code",
   "execution_count": 10,
   "metadata": {},
   "outputs": [
    {
     "name": "stdout",
     "output_type": "stream",
     "text": [
      "data setting\n",
      "using cached model. /home/mglee/VSCODE/git_folder/article_detection/code/.cache/kobert_news_wiki_ko_cased-1087f8699e.spiece\n"
     ]
    }
   ],
   "source": [
    "max_grad_norm = 1\n",
    "log_interval = 1000\n",
    "warmup_ratio = 0.1\n",
    "batch_size = 1\n",
    "max_len = 512\n",
    "\n",
    "print(\"data setting\")\n",
    "tokenizer = get_tokenizer()\n",
    "tok = nlp.data.BERTSPTokenizer(tokenizer, vocab, lower=False)\n",
    "\n",
    "pred_data_B = BERTDataset(pred_data, tok, max_len, True, False)\n",
    "\n",
    "pred_dataloader = torch.utils.data.DataLoader(\n",
    "    pred_data_B, batch_size = batch_size, num_workers = 8)\n"
   ]
  },
  {
   "cell_type": "code",
   "execution_count": 20,
   "metadata": {},
   "outputs": [],
   "source": [
    "# for i in pred_dataloader:\n",
    "#     print(i[0]) # input\n",
    "#     print(i[1]) # ?\n",
    "#     print(i[2]) # label\n",
    "#     print(i[3]) # ?\n",
    "#     break"
   ]
  },
  {
   "cell_type": "code",
   "execution_count": 11,
   "metadata": {},
   "outputs": [],
   "source": [
    "class BERTClassifier(nn.Module):\n",
    "    def __init__(self,\n",
    "                 bert,\n",
    "                 hidden_size = 768,\n",
    "                 num_classes = 2,   ##클래스 수 조정##\n",
    "                 dr_rate=None,\n",
    "                 params=None):\n",
    "        super(BERTClassifier, self).__init__()\n",
    "        self.bert = bert\n",
    "        self.dr_rate = dr_rate\n",
    "                 \n",
    "        self.classifier = nn.Linear(hidden_size , num_classes)\n",
    "        if dr_rate:\n",
    "            self.dropout = nn.Dropout(p=dr_rate)\n",
    "    \n",
    "    def gen_attention_mask(self, token_ids, valid_length):\n",
    "        attention_mask = torch.zeros_like(token_ids)\n",
    "        for i, v in enumerate(valid_length):\n",
    "            attention_mask[i][:v] = 1\n",
    "        return attention_mask.float()\n",
    "\n",
    "    def forward(self, token_ids, valid_length, segment_ids):\n",
    "        attention_mask = self.gen_attention_mask(token_ids, valid_length)\n",
    "        \n",
    "        _, pooler = self.bert(input_ids = token_ids, token_type_ids = segment_ids.long(), attention_mask = attention_mask.float().to(token_ids.device))\n",
    "        if self.dr_rate:\n",
    "            out = self.dropout(pooler)\n",
    "        return self.classifier(out)\n"
   ]
  },
  {
   "cell_type": "code",
   "execution_count": 12,
   "metadata": {},
   "outputs": [],
   "source": [
    "PATH = '../result/kobert/'\n",
    "\n",
    "pred_model = torch.load(PATH + 'KoBERT_1130_e10_py.pt')  # 전체 모델을 통째로 불러옴, 클래스 선언 필수\n",
    "# pred_model.load_state_dict(torch.load(PATH + 'Kobert_0627_py_state_dict.pt'))  # state_dict를 불러 온 후, 모델에 저장\n",
    "\n",
    "# checkpoint = torch.load(PATH + 'all.tar')   # dict 불러오기\n",
    "# pred_model.load_state_dict(checkpoint['model'])\n",
    "#optimizer.load_state_dict(checkpoint['optimizer'])"
   ]
  },
  {
   "cell_type": "code",
   "execution_count": 13,
   "metadata": {},
   "outputs": [],
   "source": [
    "def calc_accuracy(X,Y):\n",
    "    max_vals, max_indices = torch.max(X, 1)\n",
    "    train_acc = (max_indices == Y).sum().data.cpu().numpy()/max_indices.size()[0]\n",
    "    #print(f\"acc {train_acc} /  mi {max_indices} ==  {Y}\")\n",
    "    return train_acc"
   ]
  },
  {
   "cell_type": "markdown",
   "metadata": {},
   "source": [
    "### Data Set만 준비한다면 여기를 계속 다른 인풋으로 돌려보면서 확인 가능"
   ]
  },
  {
   "cell_type": "code",
   "execution_count": 14,
   "metadata": {},
   "outputs": [
    {
     "data": {
      "application/vnd.jupyter.widget-view+json": {
       "model_id": "7ceb7ba251bd4dcdb6d345129c4d1810",
       "version_major": 2,
       "version_minor": 0
      },
      "text/plain": [
       "  0%|          | 0/210 [00:00<?, ?it/s]"
      ]
     },
     "metadata": {},
     "output_type": "display_data"
    },
    {
     "name": "stdout",
     "output_type": "stream",
     "text": [
      "accuracy of test data is 0.9523809523809523\n"
     ]
    }
   ],
   "source": [
    "MAX_VALS_LST = []\n",
    "MAX_IND_LST = []\n",
    "\n",
    "out_lst = []\n",
    "pred_acc = 0\n",
    "pred_model.eval()\n",
    "for batch_id, (token_ids, valid_length, segment_ids, label) in enumerate(tqdm(pred_dataloader)):\n",
    "    token_ids = token_ids.long().to(device)\n",
    "    segment_ids = segment_ids.long().to(device)\n",
    "    valid_length= valid_length\n",
    "    label = label.long().to(device)\n",
    "    out = pred_model(token_ids, valid_length, segment_ids)\n",
    "    out_lst.append(out.data.cpu())\n",
    "    pred_acc += calc_accuracy(out, label)\n",
    "    max_vals, max_indices = torch.max(out, 1)\n",
    "    #MAX_VALS, MAX_IND = torch.topk(out, k =3)\n",
    "    #MAX_VALS_LST.append(MAX_VALS)\n",
    "    #MAX_IND_LST.append(MAX_IND)\n",
    "final_acc = pred_acc / (batch_id+1)\n",
    "print(f\"accuracy of test data is {final_acc}\")"
   ]
  },
  {
   "cell_type": "code",
   "execution_count": 15,
   "metadata": {},
   "outputs": [],
   "source": [
    "pred = []\n",
    "for batch in out_lst:\n",
    "    for item in batch:\n",
    "        pred.append(int(np.argmax(item)))"
   ]
  },
  {
   "cell_type": "code",
   "execution_count": 18,
   "metadata": {},
   "outputs": [],
   "source": [
    "pred_data['pred'] = pred"
   ]
  },
  {
   "cell_type": "code",
   "execution_count": 25,
   "metadata": {},
   "outputs": [
    {
     "name": "stdout",
     "output_type": "stream",
     "text": [
      "f1 score on test data is 0.9603174603174603\n"
     ]
    }
   ],
   "source": [
    "import sklearn.metrics as metrcis\n",
    "print(f\"f1 score on test data is {metrcis.f1_score(pred_data['label'], pred)}\")"
   ]
  },
  {
   "cell_type": "code",
   "execution_count": 23,
   "metadata": {},
   "outputs": [
    {
     "data": {
      "text/html": [
       "<div>\n",
       "<style scoped>\n",
       "    .dataframe tbody tr th:only-of-type {\n",
       "        vertical-align: middle;\n",
       "    }\n",
       "\n",
       "    .dataframe tbody tr th {\n",
       "        vertical-align: top;\n",
       "    }\n",
       "\n",
       "    .dataframe thead th {\n",
       "        text-align: right;\n",
       "    }\n",
       "</style>\n",
       "<table border=\"1\" class=\"dataframe\">\n",
       "  <thead>\n",
       "    <tr style=\"text-align: right;\">\n",
       "      <th></th>\n",
       "      <th>text</th>\n",
       "      <th>label</th>\n",
       "      <th>pred</th>\n",
       "    </tr>\n",
       "  </thead>\n",
       "  <tbody>\n",
       "    <tr>\n",
       "      <th>0</th>\n",
       "      <td>[제약] 다이어트·혈관 건강 동시에 `보이차`종근당건강 `보이미락`올여름은 유난히 ...</td>\n",
       "      <td>1.0</td>\n",
       "      <td>1</td>\n",
       "    </tr>\n",
       "    <tr>\n",
       "      <th>1</th>\n",
       "      <td>호흡하는 로봇, 뇌파 탐지 밴드…꿀잠 부르는 수면 기술로 승부[이코노미조선][Int...</td>\n",
       "      <td>1.0</td>\n",
       "      <td>1</td>\n",
       "    </tr>\n",
       "    <tr>\n",
       "      <th>2</th>\n",
       "      <td>대구 교통·학군 중심 500가구 분양동대구 비스타동원 견본주택 개관동원개발이 25일...</td>\n",
       "      <td>1.0</td>\n",
       "      <td>1</td>\n",
       "    </tr>\n",
       "    <tr>\n",
       "      <th>3</th>\n",
       "      <td>[Food&amp;Dining]야쿠르트바… 스파클링 야쿠르트… ‘국민 발효유’ 또 달라졌네...</td>\n",
       "      <td>1.0</td>\n",
       "      <td>1</td>\n",
       "    </tr>\n",
       "    <tr>\n",
       "      <th>4</th>\n",
       "      <td>태영건설 '에코시티 데시앙 14블록’ 분양태영건설 제공태영건설은 오는 26일 전북 ...</td>\n",
       "      <td>1.0</td>\n",
       "      <td>1</td>\n",
       "    </tr>\n",
       "    <tr>\n",
       "      <th>...</th>\n",
       "      <td>...</td>\n",
       "      <td>...</td>\n",
       "      <td>...</td>\n",
       "    </tr>\n",
       "    <tr>\n",
       "      <th>205</th>\n",
       "      <td>[2019 히트예감상품]오비맥주 '카스 미니캔'250㎖ 소용량···부담없이 맥주 청...</td>\n",
       "      <td>1.0</td>\n",
       "      <td>1</td>\n",
       "    </tr>\n",
       "    <tr>\n",
       "      <th>206</th>\n",
       "      <td>대통령실 “MBC 기자-비서관 설전, 매우 심각하게 보고있다”[종합]도어스테핑 공간...</td>\n",
       "      <td>0.0</td>\n",
       "      <td>0</td>\n",
       "    </tr>\n",
       "    <tr>\n",
       "      <th>207</th>\n",
       "      <td>대구지하철 두류·내당역 걸어서 10분 ‘더블역세권’대구 ‘e편한세상 두류역’[서울신...</td>\n",
       "      <td>1.0</td>\n",
       "      <td>1</td>\n",
       "    </tr>\n",
       "    <tr>\n",
       "      <th>208</th>\n",
       "      <td>버핏, TSMC 주식 5.4조원어치 쓸어 담았다[반도체주 투자 이례적…파운드리 기업...</td>\n",
       "      <td>0.0</td>\n",
       "      <td>1</td>\n",
       "    </tr>\n",
       "    <tr>\n",
       "      <th>209</th>\n",
       "      <td>[Food&amp;Dining]아이들은 ‘뽀로로 참치캔’, 어른들은 ‘양반죽’이 딱∼동원F...</td>\n",
       "      <td>1.0</td>\n",
       "      <td>1</td>\n",
       "    </tr>\n",
       "  </tbody>\n",
       "</table>\n",
       "<p>210 rows × 3 columns</p>\n",
       "</div>"
      ],
      "text/plain": [
       "                                                  text  label  pred\n",
       "0    [제약] 다이어트·혈관 건강 동시에 `보이차`종근당건강 `보이미락`올여름은 유난히 ...    1.0     1\n",
       "1    호흡하는 로봇, 뇌파 탐지 밴드…꿀잠 부르는 수면 기술로 승부[이코노미조선][Int...    1.0     1\n",
       "2    대구 교통·학군 중심 500가구 분양동대구 비스타동원 견본주택 개관동원개발이 25일...    1.0     1\n",
       "3    [Food&Dining]야쿠르트바… 스파클링 야쿠르트… ‘국민 발효유’ 또 달라졌네...    1.0     1\n",
       "4    태영건설 '에코시티 데시앙 14블록’ 분양태영건설 제공태영건설은 오는 26일 전북 ...    1.0     1\n",
       "..                                                 ...    ...   ...\n",
       "205  [2019 히트예감상품]오비맥주 '카스 미니캔'250㎖ 소용량···부담없이 맥주 청...    1.0     1\n",
       "206  대통령실 “MBC 기자-비서관 설전, 매우 심각하게 보고있다”[종합]도어스테핑 공간...    0.0     0\n",
       "207  대구지하철 두류·내당역 걸어서 10분 ‘더블역세권’대구 ‘e편한세상 두류역’[서울신...    1.0     1\n",
       "208  버핏, TSMC 주식 5.4조원어치 쓸어 담았다[반도체주 투자 이례적…파운드리 기업...    0.0     1\n",
       "209  [Food&Dining]아이들은 ‘뽀로로 참치캔’, 어른들은 ‘양반죽’이 딱∼동원F...    1.0     1\n",
       "\n",
       "[210 rows x 3 columns]"
      ]
     },
     "execution_count": 23,
     "metadata": {},
     "output_type": "execute_result"
    }
   ],
   "source": [
    "pred_data"
   ]
  },
  {
   "cell_type": "code",
   "execution_count": 20,
   "metadata": {},
   "outputs": [],
   "source": [
    "pred_data.to_csv(\"../result/pred.csv\")"
   ]
  },
  {
   "cell_type": "markdown",
   "metadata": {},
   "source": [
    "기사인척하는 악성 광고성 기사 검출"
   ]
  },
  {
   "cell_type": "code",
   "execution_count": 36,
   "metadata": {},
   "outputs": [],
   "source": [
    "bad_keyword = [\"특집\", \"기획\", \"기자\", \"탐방\", \"취재\", \"인터뷰\", \"뉴스\"]"
   ]
  },
  {
   "cell_type": "code",
   "execution_count": 42,
   "metadata": {},
   "outputs": [],
   "source": [
    "bad = []\n",
    "\n",
    "for txt in pred_data[pred_data['pred'] == 1]['text']:\n",
    "    for keyword in bad_keyword:\n",
    "        if keyword in txt:\n",
    "            bad.append(txt)\n",
    "            break"
   ]
  },
  {
   "cell_type": "code",
   "execution_count": 45,
   "metadata": {},
   "outputs": [
    {
     "data": {
      "text/plain": [
       "124"
      ]
     },
     "execution_count": 45,
     "metadata": {},
     "output_type": "execute_result"
    }
   ],
   "source": [
    "len(bad)"
   ]
  },
  {
   "cell_type": "code",
   "execution_count": 48,
   "metadata": {},
   "outputs": [
    {
     "data": {
      "text/plain": [
       "{'KB자산운용, 종로타워 투자하는 부동산펀드 출시총 1120억 한도…25일까지 판매KB자산운용이 서울 종로2가 \\'종로타워\\'에 투자하는 펀드를 내놨다.KB자산운용이 \\'KB와이즈스타부동산펀드 제2호\\'를 출시하고 24~25일 이틀간 KB국민은행과 KB증권을 통해 판매한다. 이 펀드는 지하6층, 지상24층 규모의 대형업무시설인 \\'종로타워\\'(사진)를 기초자산으로 한다.펀드는 총 1120억원을 한도로 모집하며 6년간 폐쇄형으로 운용되며, 설정 후 90일 안에 한국거래소에 상장된다. 연 평균 예상 배당수익률은 5% 수준으로, 6개월마다 투자자들에게 분배금을 지급한다. 만기시 매각가에 따라 매각손익이 발생되는 구조여서 향후 부동산 시장상황에 따라 조기 매각할 경우 운용기간이 단축될 수 있다. 신명재 KB자산운용 부동산운용본부 상무는 \"기관투자자들의 전유물이었던 코어 부동산 상품을 공모화 했다\" 며 \"종로타워는 서울의 핵심 지역에 위치한 빌딩으로 타 부동산에 비해 안정적으로 임대료 수입을 확보할 수 있고, 환가성이 높아 매각시 매각차익도 기대된다\"고 말했다.KB자산운용은 지난해 1월 이현승 대표이사가 취임한 이후 국내외 부동산펀드 시장에서 두각을 나타내고 있다. 지난해 SK증권빌딩(2950억원), KDB생명빌딩(4220억원), 서안성 물류센터(610억원), 스카이파크호텔(1960억원) 등 국내 부동산에만 1조원 가량을 투자했다.앞서 KB자산운용 지난 2월 옛 KB국민은행 명동본점 부지 개발사업에 중순위 대출을 실행하는 공모펀드 \\'KB와이즈스타부동산펀드 제1호\\'(모집액 750억원)를 출시, 10분 만에 완판하는 성과를 올리기도 했다.▶ 헉! 소리나는 스!토리 뉴스 [헉스]▶ 클릭해, 뉴스 들어간다 [뉴스쿨]▶ 세상에 이런일이 [fn파스]※ 저작권자 ⓒ 파이낸셜뉴스. 무단 전재-재배포 금지nannan',\n",
       " '기보, 식품진흥원과 식품中企 기술혁신 \\'맞손\\'차세대 기술거래 플랫폼 연계…식품산업 혁신성장 기여기술보증기금(이사장 김종호, 이하 기보)은 한국식품산업클러스터진흥원(이사장 김영재, 이하 식품진흥원)과 \\'식품 중소벤처기업의 개방형 혁신 활동 지원 및 플랫폼 공동 활용을 위한 업무협약\\'을 체결했다고 17일 밝혔다.이번 협약은 기보와 식품진흥원이 개방형 기술혁신과 플랫폼 연계를 통해 식품 중소벤처기업의 혁신성장과 기술거래 활성화를 도모하는 등 상호 유기적인 협력체계를 구축하기 위해 마련됐다.협약을 통해 양 기관은 ▲플랫폼 정보 연계 및 기보 e-전자계약시스템 공동 활용 ▲공동 홍보체계 마련 ▲기술이전 기업에 기술금융 연계 및 사업화 지원 ▲양 기관 핵심 역량 및 기술정보 교류 등을 추진하기로 했다. 기보는 올해 12월 차세대 중소벤처 개방형 기술혁신 플랫폼인 \\'스마트 테크브릿지\\'를 오픈할 예정이다. 스마트 테크브릿지는 부처별로 산재한 기술거래·사업화 지원정보를 연계해 중소기업에 수요 맞춤형 정보를 제공하고, 인공지능(AI) 기반 맞춤형 기술매칭서비스와 블록체인 기반 온라인 전자계약 서비스도 제공한다.김종호 기보 이사장은 \"양 기관이 이번 협약으로 식품 중소벤처기업의 기술혁신을 적극 지원하고 식품산업의 혁신성장에 기여할 수 있는 계기를 마련하게 됐다는 점에서 의미가 있다\"며 \"기보는 스마트 테크브릿지의 온라인 전자계약시스템을 공유해 안전하고 편리한 기술거래 환경을 조성할 것이며 앞으로도 스마트 테크브릿지가 차별화된 서비스로 기술사업화 시장을 선도하는 플랫폼이 될 수 있도록 최선을 다하겠다\"고 말했다.김철현(kch@asiae.co.kr)아시아경제',\n",
       " \"메디우스, '의료 오픈마켓' 병원 제휴 본격화파트너 신청 접수 시작글로벌 커머셜 플랫폼-메디우스(대표 박보현)는 의료 오픈마켓 병원 제휴를 본격 시작한다고 21일 밝혔다. 성형외과, 피부과, 안과, 치과 병원을 시작으로 정형외과, 소아과, 산부인과 등 모든 과별 병원으로 확대 진행할 예정이다.파트너 신청은 메디우스 사이트에서 가능하며 봉봉성형외과, 허쉬성형외과, 정원성형외과 등 국내 병원들이 파트너로 입점을 이미 시작했다. 국내외 환자들을 위한 의료상품 등록을 진행 중이다.병원은 메디우스 파트너 신청 후, 병원정보 등록, 의료진 정보 등록, 상품 정보 등록을 직접 관리할 수 있고 병원의 우수한 의료 기술과 서비스를 국내는 물론, 해외에 알릴 수 있게 된다.현재 별도 비용 없이 서비스 이용이 가능하다. 병원과 의사의 평판이 좋을수록 더 큰 홍보 효과를 기대할 수 있다고 강조했다.메디우스 이용자는 자신에게 맞는 병원과 의사 그리고 수술 방법을 보다 쉽고, 빠르게 찾기 위해 의료오픈마켓의 '비교상담'과 '상품검색' 서비스를 이용할 수 있다.메디우스는 다양한 콘텐츠와 의료 서비스를 접목해 차별화된 서비스를 의료 상품으로 개발, 확대해 나갈 계획이다.송영두(songzio@edaily.co.kr)헤럴드경제\",\n",
       " '오아시스마켓, \\'AI 음성 장보기\\' 서비스…대한민국 식품대전 참가18일까지 서울 양재동 aT센터서 AI 음성장보기 소개신선식품 배송플랫폼 중 유통·물류 혁신 기업으로 참가\\'2022 대한민국 식품대전\\' 내 오아시스마켓 부스(사진제공=오아시스마켓).오아시스마켓이 \\'AI 음성 장보기\\' 기술로 대한민국 식품대전에 참가했다.오아시스마켓은 2022 대한민국 식품대전에 초청돼 \\'오아시스 기가지니 음성 장보기 서비스\\'를 소개했다고 17일 밝혔다. 오아시스마켓은 푸드테크 전시관 중 소비자맞춤형 서비스 부문에 부스를 마련, 차세대 푸드테크 기술을 선보였다.오아시스마켓 음성 장보기 서비스는 KT 기가지니로 신선식품을 새벽배송 받을 수 있는 서비스다. \"지니야, 오아시스마켓\"이라고 말하면 오아시스마켓 음성 장보기 서비스가 실행되며 자동으로 배송지가 입력돼 \\'담아줘\\', \\'구매해줘\\', \\'결제해줘\\' 세 단계 음성명령으로 신선식품을 다음날 오전 7시까지 받을 수 있다.지난 8월 서비스 오픈 후 이 서비스를 한 번이라도 경험한 고객은 이날 기준 18만6000명이며, 서비스에 동의한 고객도 9만4000명에 달한다. 대한민국 식품대전 현장 참여자들도 서비스를 직접 체험하면서 관심을 보였다.오아시스마켓은 이밖에도 올해 농식품부에서 선정한 국산 우수 김치 품평회 수상작을 위한 전용관도 열었다. aT센터와 국산 김치 전용관을 열어 올해 수상작품을 직매입, 25% 할인쿠폰을 제공해 판매하고 있다. 음성으로 김치를 주문하면 다음날 새벽배송 서비스로 문 앞에서 받을 수 있다.안준형 오아시스마켓 대표는 \"ICT를 활용한 유통시스템이 소비자의 편의를 높이고 신선식품 유통 활성화에도 도움이 되고 있다\"며 \"AI를 접목한 음성장보기 기술을 지속적으로 고도화해 높은 연령층 고객 등 다양한 고객이 보다 쉽게 장보기를 할 수 있도록 할 것\"이라고 말했다.김유리(yr61@asiae.co.kr)아시아경제',\n",
       " '한국건강기능식품협회, \\'2022 건강기능식품 시장 현황 및 소비자 실태조사\\' 보고서 발간한국건강기능식품협회가 \\'2022 건강기능식품 시장 현황 및 소비자 실태조사\\' 보고서를 발간했다.보고서에는 전 세계 건강기능식품 시장 동향과, 미주·유럽·아시아 등 16개 지역(국가)별 정보가 담겼다. 또, 국내 건강기능식품 산업 현황 전반과 함께, 기능성원료·유통채널·제형 등을 기준으로 시장 구조를 다방면으로 분석했다.이외에도 3000여 소비자 패널 대상 설문조사 결과를 반영했다. 건강에 대한 관심도 및 관리법, 건강기능식품 구매·섭취 행태, 향후 구매 의향 등을 비롯해, 최신 소비 트렌드인 건강관리 앱 및 정기 배송 서비스 이용 경험 등에 대한 응답 내용도 실었다.건기식협회 관계자는 \"건강기능식품의 수요가 급증하고 국내외 시장 경쟁이 치열해짐에 따라, 경쟁력 향상에 바탕이 되는 객관적 정보의 중요성이 커지고 있다\"면서, \"시장 동향 파악에 앞장서고 업계 전체의 질적 성장을 지원하기 위해 편찬한 본 보고서가 산업계 곳곳에서 유용하게 활용되길 바란다\"고 전했다.김소형(compact@sportschosun.com)조선비즈'}"
      ]
     },
     "execution_count": 48,
     "metadata": {},
     "output_type": "execute_result"
    }
   ],
   "source": [
    "set(pred_data[pred_data['pred'] == 1]['text']) - set(bad)"
   ]
  }
 ],
 "metadata": {
  "kernelspec": {
   "display_name": "Python 3.8.12 ('save')",
   "language": "python",
   "name": "python3"
  },
  "language_info": {
   "codemirror_mode": {
    "name": "ipython",
    "version": 3
   },
   "file_extension": ".py",
   "mimetype": "text/x-python",
   "name": "python",
   "nbconvert_exporter": "python",
   "pygments_lexer": "ipython3",
   "version": "3.8.12"
  },
  "vscode": {
   "interpreter": {
    "hash": "6632c70ce360d611e847e5318887868e2366d56c00e5f501b5a0b067a934dfe7"
   }
  }
 },
 "nbformat": 4,
 "nbformat_minor": 4
}
